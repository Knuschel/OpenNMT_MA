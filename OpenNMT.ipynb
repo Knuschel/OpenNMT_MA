{
 "cells": [
  {
   "cell_type": "markdown",
   "id": "1cfd3ac2",
   "metadata": {
    "gradient": {
     "editing": false,
     "id": "23ad2a34",
     "kernelId": ""
    }
   },
   "source": [
    "# Quellen: \n",
    "\n",
    "[Google Github, o. D.] - Google (o. D.). GitHub - google/sentencepiece: Unsupervised text tokenizer for Neural Network-based text generation. GitHub. [online] https://github.com/google/sentencepiece [abgerufen am 16.01.2022].\n",
    "\n",
    "[Jitsi, o. D.] - Jitsi (o. D.). GitHub - jitsi/jiwer: Evaluate your speech-to-text system with similarity measures such as word error rate (WER). GitHub. [online] https://github.com/jitsi/jiwer [abgerufen am 17.01.2022].\n",
    "\n",
    "[Klein et al., 2018] - Klein, Guillaume/Kim, Yoon/Deng, Yuntian/Nguyen, Vincent/Senellart, Jean/Rush, Alexander M. (2018). OpenNMT: Neural Machine Translation Toolkit. In: Proceedings of AMTA 2018, Vol. 1, MT Research Track, 177-184. [online] https://aclanthology.org/W18-1817.pdf [abgerufen am 30.12.21].\n",
    "\n",
    "[Koehn, 2005] - Koehn, Philipp (2005). Europarl: A parallel corpus for statistical machine translation. In: MT Summit, 5, 79-86. [online] https://homepages.inf.ed.ac.uk/pkoehn/publications/europarl-mtsummit05.pdf [abgerufen am 04.01.2022]\n",
    "\n",
    "[Mjpost, o. D.] - Mjpost (o. D.). GitHub - mjpost/sacrebleu: Reference BLEU implementation that auto-downloads test sets and reports a version string to facilitate cross-lab comparisons. GitHub. [online] https://github.com/mjpost/sacrebleu [abgerufen am 17.01.2022].\n",
    "\n",
    "[OpenNMT, o. D.a] - Train — OpenNMT-py documentation (o. D.). OpenNMT. [online] https://opennmt.net/OpenNMT-py/options/train.html [abgerufen am 01.01.2022].\n",
    "\n",
    "[OpenNMT, o. D.b] - OpenNMT (o. D.). GitHub - OpenNMT/OpenNMT-py: Open Source Neural Machine Translation in PyTorch. GitHub. [online] https://github.com/OpenNMT/OpenNMT-py [abgerufen am 04.01.2022].\n",
    "\n",
    "[OpenNMT, o. D.c] - Translation — OpenNMT-py documentation (o. D.). OpenNMT. [online] https://opennmt.net/OpenNMT-py/examples/Translation.html [abgerufen am 01.01.2022].\n",
    "\n",
    "[OPUS, o. D.] - Europarl (o. D.). OPUS. [online] https://opus.nlpl.eu/Europarl.php [abgerufen am 01.01.2022].\n",
    "\n",
    "[Tiedemann, 2012] - Tiedemann, Jörg (2012). Parallel Data, Tools and Interfaces in OPUS. In: Proceedings of the 8th International Conference on Language Resources and Evaluation (LREC 2012). [online] http://www.lrec-conf.org/proceedings/lrec2012/pdf/463_Paper.pdf [abgerufen am 04.01.2022].\n",
    "\n",
    "[Ymoslem, o. D.a] - Ymoslem (o. D.). GitHub - ymoslem/MT-Preparation: Machine Translation (MT) Preparation Scripts. GitHub. [online] https://github.com/ymoslem/MT-Preparation [abgerufen am 01.01.2022].\n",
    "\n",
    "[Ymoslem, o. D.b] - Ymoslem (o. D.). GitHub - ymoslem/MT-Evaluation: Machine Translation (MT) Evaluation Scripts. GitHub. [online] https://github.com/ymoslem/MT-Evaluation [abgerufen am 04.01.2022]."
   ]
  },
  {
   "cell_type": "code",
   "execution_count": null,
   "id": "e59a2415",
   "metadata": {
    "collapsed": false,
    "gradient": {
     "editing": false,
     "id": "dcfa0704",
     "kernelId": "",
     "source_hidden": false
    },
    "jupyter": {
     "outputs_hidden": false
    }
   },
   "outputs": [],
   "source": [
    "# Installiert OpenNMT-PyTorch\n",
    "!pip install OpenNMT-py"
   ]
  },
  {
   "cell_type": "code",
   "execution_count": null,
   "id": "c2bd206f",
   "metadata": {
    "collapsed": false,
    "gradient": {
     "editing": false,
     "id": "5fdf64b2",
     "kernelId": "",
     "source_hidden": false
    },
    "jupyter": {
     "outputs_hidden": false
    }
   },
   "outputs": [],
   "source": [
    "# Installiert weitere Pakete, die für das Experiment benötigt werden.\n",
    "!pip3 install --user -r requirements.txt"
   ]
  },
  {
   "cell_type": "code",
   "execution_count": null,
   "id": "6b81e61c",
   "metadata": {
    "gradient": {
     "editing": false,
     "id": "a12bf4da",
     "kernelId": "",
     "source_hidden": false
    }
   },
   "outputs": [],
   "source": [
    "# Filtering: Datenbereinigung\n",
    "!python3 filter.py Data/Europarl.de-en.en Data/Europarl.de-en.de en de"
   ]
  },
  {
   "cell_type": "code",
   "execution_count": null,
   "id": "a430e5ec",
   "metadata": {
    "gradient": {
     "editing": false,
     "id": "b12c0036",
     "kernelId": "",
     "source_hidden": false
    }
   },
   "outputs": [],
   "source": [
    "# Teilwortmodelle (Subwording Models): Es müssen zwei Teilwortmodelle erstellt werden, um das Vokabular der Quell- und Zielsprache zu lernen.\n",
    "!python3 train.py Data/Europarl.de-en.en-filtered.en Data/Europarl.de-en.de-filtered.de"
   ]
  },
  {
   "cell_type": "code",
   "execution_count": null,
   "id": "8268eeb9",
   "metadata": {
    "gradient": {
     "editing": false,
     "id": "2a3802b4",
     "kernelId": "",
     "source_hidden": false
    }
   },
   "outputs": [],
   "source": [
    "# Tokenisierung: In diesem Schritt werden die Modelle verwendet, die im vorherigen Schritt erzeugt wurden, um das Subwording der Quell- und Zieldateien für die maschinelle Übersetzung durchzuführen\n",
    "!python3 subword.py source.model target.model Data/Europarl.de-en.en-filtered.en Data/Europarl.de-en.de-filtered.de"
   ]
  },
  {
   "cell_type": "code",
   "execution_count": null,
   "id": "f57151d8",
   "metadata": {
    "gradient": {
     "editing": false,
     "id": "a4f5cd83",
     "kernelId": "",
     "source_hidden": false
    }
   },
   "outputs": [],
   "source": [
    "# Aufteilung des parallelen Datensatzes in Trainings-, Validierungs- und Testdatensätze für die maschinelle Übersetzung.\n",
    "!python3 train_dev_test_split.py 10000 10000 Data/Europarl.de-en.en-filtered.en.subword Data/Europarl.de-en.de-filtered.de.subword"
   ]
  },
  {
   "cell_type": "code",
   "execution_count": null,
   "id": "9a431e4c",
   "metadata": {
    "gradient": {
     "editing": false,
     "id": "30704948",
     "kernelId": "",
     "source_hidden": false
    }
   },
   "outputs": [],
   "source": [
    "# Vokabular aufbauen. Mit -n_sample -1 das Vokabular über den gesamten Korpus berechnen.\n",
    "!onmt_build_vocab -config europarl.yaml -n_sample -1"
   ]
  },
  {
   "cell_type": "code",
   "execution_count": null,
   "id": "222df97b",
   "metadata": {
    "gradient": {
     "editing": false,
     "id": "bbc850a2",
     "kernelId": "",
     "source_hidden": false
    }
   },
   "outputs": [],
   "source": [
    "# Training starten.\n",
    "!onmt_train -config europarl.yaml"
   ]
  },
  {
   "cell_type": "code",
   "execution_count": null,
   "id": "9ee7871b",
   "metadata": {
    "collapsed": false,
    "gradient": {
     "editing": false,
     "id": "a4c319a9",
     "kernelId": "",
     "source_hidden": false
    },
    "jupyter": {
     "outputs_hidden": false
    },
    "scrolled": true
   },
   "outputs": [],
   "source": [
    "# Training ab dem ausgewähltem Checkpoint fortsetzen.\n",
    "!onmt_train -config europarl.yaml -train_from NMT-Model/model_baseline_step_40000.pt -continue"
   ]
  },
  {
   "cell_type": "code",
   "execution_count": null,
   "id": "47966453",
   "metadata": {
    "collapsed": false,
    "gradient": {
     "editing": false,
     "id": "4e65764a",
     "kernelId": "",
     "source_hidden": false
    },
    "jupyter": {
     "outputs_hidden": false
    }
   },
   "outputs": [],
   "source": [
    "# Versteckten .trash Ordner auf Paperspace - Gradient löschen\n",
    "# !du --help\n",
    "!rm -rf .Trash-0* # Müll entfernen\n",
    "!du -sch .[!.]** |sort -h # Versteckte Ordner anzeigen"
   ]
  },
  {
   "cell_type": "code",
   "execution_count": null,
   "id": "05f79ff6",
   "metadata": {
    "gradient": {
     "editing": false,
     "id": "588579ba",
     "kernelId": ""
    },
    "scrolled": true
   },
   "outputs": [],
   "source": [
    "# Übersetzen mit trainiertem Modell.\n",
    "!python translate.py -model NMT-Model/model_baseline_step_40000.pt -src Data/Europarl.de-en.en-filtered.en.subword.test -output Output/pred.txt -replace_unk -verbose"
   ]
  },
  {
   "cell_type": "code",
   "execution_count": null,
   "id": "2f5ed811",
   "metadata": {
    "collapsed": false,
    "gradient": {
     "editing": false,
     "id": "025f2547",
     "kernelId": "",
     "source_hidden": false
    },
    "jupyter": {
     "outputs_hidden": false
    }
   },
   "outputs": [],
   "source": [
    "# Detokenisierung der maschinellen Übersetzung.\n",
    "# Dieser Schritt ist sinnvoll nachdem das maschinelle Übersetzungsmodell trainiert und Dateien damit übersetzt wurden. Die generierten Zieldateien (d. h. die übersetzten Dateien) müssen detokenisiert werden.\n",
    "!python3 desubword.py target.model Output/pred_batch_size_2k_60k.txt"
   ]
  },
  {
   "cell_type": "code",
   "execution_count": null,
   "id": "53d886e1",
   "metadata": {
    "collapsed": false,
    "gradient": {
     "editing": false,
     "id": "a4a29643",
     "kernelId": "",
     "source_hidden": false
    },
    "jupyter": {
     "outputs_hidden": false
    }
   },
   "outputs": [],
   "source": [
    "# Detokenisierung der Referenz.\n",
    "!python3 desubword.py target.model Data/Europarl.de-en.de-filtered.de.subword.test"
   ]
  },
  {
   "cell_type": "code",
   "execution_count": null,
   "id": "c57f844c",
   "metadata": {
    "collapsed": false,
    "gradient": {
     "editing": false,
     "id": "e964f6c9",
     "kernelId": "",
     "source_hidden": false
    },
    "jupyter": {
     "outputs_hidden": false
    }
   },
   "outputs": [],
   "source": [
    "# Evaluierung mit BLEU.\n",
    "!python3 compute-bleu.py Data/Europarl.de-en.de-filtered.de.subword.test.desubword Output/pred_batch_size_2k_60k.txt.desubword"
   ]
  },
  {
   "cell_type": "code",
   "execution_count": null,
   "id": "b4b9bc08",
   "metadata": {
    "collapsed": false,
    "gradient": {
     "editing": false,
     "id": "baa6aaaa",
     "kernelId": "",
     "source_hidden": false
    },
    "jupyter": {
     "outputs_hidden": false
    }
   },
   "outputs": [],
   "source": [
    "# Evaluierung mit METEOR\n",
    "# Bitte beachten, dass METEOR nur auf Satzebene und nicht auf Korpusebene arbeitet.\n",
    "# Ausgabe ist die Bewertung eines jeden Satzes. Zur Bewertung des Korpus kann anschließend der Mittelwert gebildet werden.\n",
    "!python3 sentence-meteor.py Data/Europarl.de-en.de-filtered.de.subword.test.desubword Output/pred_batch_size_2k_60k.txt.desubword"
   ]
  },
  {
   "cell_type": "code",
   "execution_count": null,
   "id": "0abd7d97",
   "metadata": {
    "collapsed": false,
    "gradient": {
     "editing": false,
     "id": "62571e42",
     "kernelId": "",
     "source_hidden": false
    },
    "jupyter": {
     "outputs_hidden": false
    }
   },
   "outputs": [],
   "source": [
    "# Evaluierung mit Word Error Rate (WER)\n",
    "!python3 corpus-wer.py Data/Europarl.de-en.de-filtered.de.subword.test.desubword Output/pred_batch_size_2k_60k.txt.desubword"
   ]
  },
  {
   "cell_type": "code",
   "execution_count": null,
   "id": "df189c3b",
   "metadata": {
    "gradient": {
     "editing": false,
     "id": "da0ed37e",
     "kernelId": ""
    }
   },
   "outputs": [],
   "source": []
  }
 ],
 "metadata": {
  "kernelspec": {
   "display_name": "Python 3 (ipykernel)",
   "language": "python",
   "name": "python3"
  },
  "language_info": {
   "codemirror_mode": {
    "name": "ipython",
    "version": 3
   },
   "file_extension": ".py",
   "mimetype": "text/x-python",
   "name": "python",
   "nbconvert_exporter": "python",
   "pygments_lexer": "ipython3",
   "version": "3.8.12"
  }
 },
 "nbformat": 4,
 "nbformat_minor": 5
}
