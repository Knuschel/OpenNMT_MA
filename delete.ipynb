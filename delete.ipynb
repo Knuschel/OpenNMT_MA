{
 "cells": [
  {
   "cell_type": "code",
   "execution_count": 1,
   "id": "0c1f5539",
   "metadata": {
    "collapsed": false,
    "gradient": {
     "editing": false,
     "execution_count": 1,
     "id": "8e71a8d7-9999-4d35-bbb2-6e7f7600902b",
     "kernelId": "00221714-63dc-4196-8ae0-88dc303053a6",
     "source_hidden": false
    },
    "jupyter": {
     "outputs_hidden": false
    }
   },
   "outputs": [
    {
     "name": "stdout",
     "output_type": "stream",
     "text": [
      "50K\t.ipynb_checkpoints\n",
      "73K\t.git\n",
      "122K\ttotal\n"
     ]
    }
   ],
   "source": [
    "# Versteckten .trash Ordner auf Paperspace - Gradient löschen\r\n",
    "# !du --help\r\n",
    "!rm -rf .Trash-0* # Müll entfernen\r\n",
    "!du -sch .[!.]** |sort -h # Versteckte Ordner anzeigen"
   ]
  },
  {
   "cell_type": "code",
   "execution_count": null,
   "id": "232da315",
   "metadata": {},
   "outputs": [],
   "source": []
  }
 ],
 "metadata": {
  "kernelspec": {
   "display_name": "Python 3 (ipykernel)",
   "language": "python",
   "name": "python3"
  },
  "language_info": {
   "codemirror_mode": {
    "name": "ipython",
    "version": 3
   },
   "file_extension": ".py",
   "mimetype": "text/x-python",
   "name": "python",
   "nbconvert_exporter": "python",
   "pygments_lexer": "ipython3",
   "version": "3.8.12"
  }
 },
 "nbformat": 4,
 "nbformat_minor": 5
}
